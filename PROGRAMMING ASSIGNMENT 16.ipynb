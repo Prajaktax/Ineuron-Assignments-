{
 "cells": [
  {
   "cell_type": "code",
   "execution_count": 1,
   "id": "c69d0ff4",
   "metadata": {},
   "outputs": [],
   "source": [
    "# Programming Assignment 16"
   ]
  },
  {
   "cell_type": "code",
   "execution_count": 2,
   "id": "319068d4",
   "metadata": {},
   "outputs": [],
   "source": [
    "# 1. Write a function that stutters a word as if someone is struggling to read it.\n",
    "# The first two letters are repeated twice with an ellipsis ... and space after each,\n",
    "# and then the word is pronounced with a question mark ?. Examples stutter('incredible')\n",
    "# ➞ 'in... in... incredible?' stutter('enthusiastic') ➞ 'en... en... enthusiastic?' stutter('outstanding')\n",
    "# ➞ 'ou... ou... outstanding?'¶\n",
    "# Hint :- Assume all input is in lower case and at least two characters long."
   ]
  },
  {
   "cell_type": "code",
   "execution_count": 3,
   "id": "a26bcc6b",
   "metadata": {},
   "outputs": [
    {
     "name": "stdout",
     "output_type": "stream",
     "text": [
      "in... in... incredible?\n",
      "en... en... enthusiastic?\n",
      "ou... ou... outstanding?\n"
     ]
    }
   ],
   "source": [
    "def stutter(word:str):\n",
    "    print(f\"{word[:2]}... {word[:2]}... {word}?\")\n",
    "    \n",
    "stutter('incredible') \n",
    "stutter('enthusiastic') \n",
    "stutter('outstanding')"
   ]
  },
  {
   "cell_type": "code",
   "execution_count": 4,
   "id": "706ef979",
   "metadata": {},
   "outputs": [],
   "source": [
    "# 2. Create a function that takes an angle in radians and returns the corresponding angle in degrees rounded to one decimal place."
   ]
  },
  {
   "cell_type": "code",
   "execution_count": 5,
   "id": "c9e6db6b",
   "metadata": {},
   "outputs": [
    {
     "name": "stdout",
     "output_type": "stream",
     "text": [
      "57.3\n",
      "1145.9\n",
      "2864.8\n"
     ]
    }
   ],
   "source": [
    "def radians_to_degrees(rads):\n",
    "    return round(57.295779513 * rads, 1)\n",
    "\n",
    "print(radians_to_degrees(1))\n",
    "print(radians_to_degrees(20))\n",
    "print(radians_to_degrees(50))"
   ]
  },
  {
   "cell_type": "code",
   "execution_count": 6,
   "id": "0083d0d9",
   "metadata": {},
   "outputs": [],
   "source": [
    "# 3. In this challenge, establish if a given integer num is a Curzon number. \n",
    "# If 1 plus 2 elevated to num is exactly divisible by 1 plus 2 multiplied by num, then num is a Curzon number.\n",
    "# Given a non-negative integer num, implement a function that returns True if num is a Curzon number, or False otherwise"
   ]
  },
  {
   "cell_type": "code",
   "execution_count": 7,
   "id": "f5c4c636",
   "metadata": {},
   "outputs": [
    {
     "name": "stdout",
     "output_type": "stream",
     "text": [
      "True\n",
      "False\n",
      "True\n"
     ]
    }
   ],
   "source": [
    "def is_curzon(n):\n",
    "    \n",
    "    if (1 + 2 ** n) % (1 + 2*n) == 0:\n",
    "        return True\n",
    "    \n",
    "    return False\n",
    "\n",
    "print(is_curzon(5)) # True\n",
    "print(is_curzon(10)) # False\n",
    "print(is_curzon(14)) # True"
   ]
  },
  {
   "cell_type": "code",
   "execution_count": 8,
   "id": "149cc081",
   "metadata": {},
   "outputs": [],
   "source": [
    "# 4. Given the side length x find the area of a hexagon"
   ]
  },
  {
   "cell_type": "code",
   "execution_count": 9,
   "id": "c82d959a",
   "metadata": {},
   "outputs": [
    {
     "name": "stdout",
     "output_type": "stream",
     "text": [
      "2.6\n",
      "10.4\n",
      "23.4\n"
     ]
    }
   ],
   "source": [
    "import math\n",
    "\n",
    "def area_of_hexagon(length):\n",
    "    area =  3 * math.sqrt(3) * 0.5 * length * length\n",
    "    return round(area, 1)\n",
    "\n",
    "print(area_of_hexagon(1))\n",
    "print(area_of_hexagon(2))\n",
    "print(area_of_hexagon(3))"
   ]
  },
  {
   "cell_type": "code",
   "execution_count": 10,
   "id": "cf1c1341",
   "metadata": {},
   "outputs": [],
   "source": [
    "# 5. Create a function that returns a base-2 (binary) representation of a base-10 (decimal) string number. \n",
    "# To convert is simple: ((2) means base-2 and (10) means base-10) 010101001(2) = 1 + 8 + 32 + 128."
   ]
  },
  {
   "cell_type": "code",
   "execution_count": 11,
   "id": "3031083f",
   "metadata": {},
   "outputs": [
    {
     "name": "stdout",
     "output_type": "stream",
     "text": [
      "1\n",
      "101\n",
      "1010\n"
     ]
    }
   ],
   "source": [
    "def binary(n):\n",
    "    return \"{0:b}\".format(int(n))\n",
    "\n",
    "print(binary(1))\n",
    "print(binary(5))\n",
    "print(binary(10))"
   ]
  },
  {
   "cell_type": "code",
   "execution_count": null,
   "id": "dd641014",
   "metadata": {},
   "outputs": [],
   "source": []
  }
 ],
 "metadata": {
  "kernelspec": {
   "display_name": "Python 3 (ipykernel)",
   "language": "python",
   "name": "python3"
  },
  "language_info": {
   "codemirror_mode": {
    "name": "ipython",
    "version": 3
   },
   "file_extension": ".py",
   "mimetype": "text/x-python",
   "name": "python",
   "nbconvert_exporter": "python",
   "pygments_lexer": "ipython3",
   "version": "3.11.0"
  }
 },
 "nbformat": 4,
 "nbformat_minor": 5
}
