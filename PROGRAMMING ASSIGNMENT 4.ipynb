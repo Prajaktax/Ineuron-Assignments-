{
 "cells": [
  {
   "cell_type": "code",
   "execution_count": 1,
   "id": "39e24f93",
   "metadata": {},
   "outputs": [],
   "source": [
    "# Programming Assignment_4"
   ]
  },
  {
   "cell_type": "code",
   "execution_count": 2,
   "id": "b1b0529f",
   "metadata": {},
   "outputs": [],
   "source": [
    "# 1. Write a Python Program to Find the Factorial of a Number?\n",
    "\n",
    "# SOL:"
   ]
  },
  {
   "cell_type": "code",
   "execution_count": 3,
   "id": "76d072b4",
   "metadata": {},
   "outputs": [
    {
     "name": "stdout",
     "output_type": "stream",
     "text": [
      "Enter a number: 5\n",
      "\n",
      "Factorial of 5: 120\n"
     ]
    }
   ],
   "source": [
    "num = int(input(\"Enter a number: \"))\n",
    "\n",
    "fact = 1\n",
    "for i in range(num, 0, -1):\n",
    "    fact = fact*i\n",
    "    \n",
    "print(\"\\nFactorial of {}: {}\".format(num, fact))"
   ]
  },
  {
   "cell_type": "code",
   "execution_count": 4,
   "id": "b11a7b10",
   "metadata": {},
   "outputs": [],
   "source": [
    "# 2. Write a Python Program to Display the multiplication Table?\n",
    "\n",
    "# SOL:"
   ]
  },
  {
   "cell_type": "code",
   "execution_count": 5,
   "id": "e02dbe43",
   "metadata": {},
   "outputs": [
    {
     "name": "stdout",
     "output_type": "stream",
     "text": [
      "Enter a number: 17\n",
      "17 x 1 = 17\n",
      "17 x 2 = 34\n",
      "17 x 3 = 51\n",
      "17 x 4 = 68\n",
      "17 x 5 = 85\n",
      "17 x 6 = 102\n",
      "17 x 7 = 119\n",
      "17 x 8 = 136\n",
      "17 x 9 = 153\n",
      "17 x 10 = 170\n"
     ]
    }
   ],
   "source": [
    "num = int(input(\"Enter a number: \"))\n",
    "\n",
    "for i in range(1, 11):\n",
    "    print(\"{} x {} = {}\".format(num, i, num*i))"
   ]
  },
  {
   "cell_type": "code",
   "execution_count": 6,
   "id": "b5a71def",
   "metadata": {},
   "outputs": [],
   "source": [
    "# 3. Write a Python Program to Print the Fibonacci sequence?\n",
    "\n",
    "# SOL:"
   ]
  },
  {
   "cell_type": "code",
   "execution_count": 7,
   "id": "c61e8ab6",
   "metadata": {},
   "outputs": [
    {
     "name": "stdout",
     "output_type": "stream",
     "text": [
      "Enter a length: 11\n",
      "0 1 1 2 3 5 8 13 21 34 55 "
     ]
    }
   ],
   "source": [
    "fibo_length = int(input(\"Enter a length: \"))\n",
    "\n",
    "a = 0\n",
    "b = 1\n",
    "print(a, end = ' ')\n",
    "print(b, end = ' ')\n",
    "while(fibo_length-2 > 0):\n",
    "    nt = a + b\n",
    "    print(nt, end = ' ')\n",
    "    a = b\n",
    "    b = nt\n",
    "    \n",
    "    fibo_length -= 1"
   ]
  },
  {
   "cell_type": "code",
   "execution_count": 8,
   "id": "0cd14fb2",
   "metadata": {},
   "outputs": [],
   "source": [
    "# 4. Write a Python Program to Check Armstrong Number?\n",
    "\n",
    "# SOL:"
   ]
  },
  {
   "cell_type": "code",
   "execution_count": 9,
   "id": "7a691455",
   "metadata": {},
   "outputs": [],
   "source": [
    "import math"
   ]
  },
  {
   "cell_type": "code",
   "execution_count": 10,
   "id": "8ac29f22",
   "metadata": {},
   "outputs": [],
   "source": [
    "def fibo_check(num):\n",
    "    l = len(str(num))  ## l = number of digits of number\n",
    "    sum1 = 0 \n",
    "    temp_num = num\n",
    "    while(num > 0):\n",
    "        d = num % 10\n",
    "        sum1 += int(math.pow(d, l))\n",
    "        num = num // 10\n",
    "\n",
    "    if(sum1 == int(temp_num)):\n",
    "        return 1\n",
    "    else:\n",
    "        return 0"
   ]
  },
  {
   "cell_type": "code",
   "execution_count": 11,
   "id": "b7d0f73e",
   "metadata": {},
   "outputs": [
    {
     "name": "stdout",
     "output_type": "stream",
     "text": [
      "Enter a number: 111\n",
      "111 is not an armstrong number\n"
     ]
    }
   ],
   "source": [
    "num = int(input(\"Enter a number: \"))\n",
    "\n",
    "if(fibo_check(num)):\n",
    "    print(\"{} is an armstrong number\".format(num))\n",
    "else:\n",
    "    print(\"{} is not an armstrong number\".format(num))"
   ]
  },
  {
   "cell_type": "code",
   "execution_count": 12,
   "id": "38b155bd",
   "metadata": {},
   "outputs": [
    {
     "name": "stdout",
     "output_type": "stream",
     "text": [
      "Enter a number: 153\n",
      "153 is an armstrong number\n"
     ]
    }
   ],
   "source": [
    "num = int(input(\"Enter a number: \"))\n",
    "\n",
    "if(fibo_check(num)):\n",
    "    print(\"{} is an armstrong number\".format(num))\n",
    "else:\n",
    "    print(\"{} is not an armstrong number\".format(num))"
   ]
  },
  {
   "cell_type": "code",
   "execution_count": 13,
   "id": "7f8b11f9",
   "metadata": {},
   "outputs": [],
   "source": [
    "# 5. Write a Python Program to Find Armstrong Number in an Interval?\n",
    "\n",
    "# SOL:"
   ]
  },
  {
   "cell_type": "code",
   "execution_count": 15,
   "id": "7068f0f3",
   "metadata": {},
   "outputs": [
    {
     "name": "stdout",
     "output_type": "stream",
     "text": [
      "Enter the lower value of range: 1\n",
      "Enter the higher value of range: 2000\n",
      "\n",
      "From 1 to 2000 following are the Armstrong Number:\n",
      "1 2 3 4 5 6 7 8 9 153 370 371 407 1634 "
     ]
    }
   ],
   "source": [
    "low = int(input(\"Enter the lower value of range: \"))\n",
    "high = int(input(\"Enter the higher value of range: \"))\n",
    "\n",
    "print(\"\\nFrom {} to {} following are the Armstrong Number:\".format(low, high), end='\\n')\n",
    "for i in range(low, high+1):\n",
    "    \n",
    "    if(fibo_check(i)):\n",
    "        print(i, end = ' ')"
   ]
  },
  {
   "cell_type": "code",
   "execution_count": 16,
   "id": "3354ce82",
   "metadata": {},
   "outputs": [],
   "source": [
    "# 6. Write a Python Program to Find the Sum of Natural Numbers?\n",
    "\n",
    "# SOL:"
   ]
  },
  {
   "cell_type": "code",
   "execution_count": 17,
   "id": "96bfa7d3",
   "metadata": {},
   "outputs": [
    {
     "name": "stdout",
     "output_type": "stream",
     "text": [
      "Enter a positive number: 200\n",
      "Sum of 200 natural number is 20100\n"
     ]
    }
   ],
   "source": [
    "num = int(input(\"Enter a positive number: \"))\n",
    "\n",
    "total_sum = 0\n",
    "for i in range(1, num+1):\n",
    "    total_sum += i\n",
    "    \n",
    "print(\"Sum of {} natural number is {}\".format(num, total_sum))"
   ]
  },
  {
   "cell_type": "code",
   "execution_count": null,
   "id": "389a62fc",
   "metadata": {},
   "outputs": [],
   "source": []
  }
 ],
 "metadata": {
  "kernelspec": {
   "display_name": "Python 3 (ipykernel)",
   "language": "python",
   "name": "python3"
  },
  "language_info": {
   "codemirror_mode": {
    "name": "ipython",
    "version": 3
   },
   "file_extension": ".py",
   "mimetype": "text/x-python",
   "name": "python",
   "nbconvert_exporter": "python",
   "pygments_lexer": "ipython3",
   "version": "3.11.0"
  }
 },
 "nbformat": 4,
 "nbformat_minor": 5
}
