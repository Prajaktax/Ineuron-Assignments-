{
 "cells": [
  {
   "cell_type": "markdown",
   "id": "33f827ba",
   "metadata": {},
   "source": [
    "# Programming Assignment_1"
   ]
  },
  {
   "cell_type": "markdown",
   "id": "1b889d4e",
   "metadata": {},
   "source": [
    "# 1. Write a Python program to print \"Hello Python\"?\n",
    "\n",
    "\n"
   ]
  },
  {
   "cell_type": "code",
   "execution_count": 2,
   "id": "5c399419",
   "metadata": {},
   "outputs": [
    {
     "name": "stdout",
     "output_type": "stream",
     "text": [
      "Hello Python\n"
     ]
    }
   ],
   "source": [
    "print(\"Hello Python\")"
   ]
  },
  {
   "cell_type": "markdown",
   "id": "ff5671dd",
   "metadata": {},
   "source": [
    "# 2. Write a Python program to do arithmetical operations addition and division.?"
   ]
  },
  {
   "cell_type": "code",
   "execution_count": 4,
   "id": "02f02197",
   "metadata": {},
   "outputs": [
    {
     "name": "stdout",
     "output_type": "stream",
     "text": [
      "12\n",
      "1.4\n"
     ]
    }
   ],
   "source": [
    "a=5\n",
    "b=7\n",
    "add = a+ b\n",
    "div = b/a\n",
    "print(add)\n",
    "print(div)"
   ]
  },
  {
   "cell_type": "markdown",
   "id": "e9267147",
   "metadata": {},
   "source": [
    "# 3. Write a Python program to find the area of a triangle?\n"
   ]
  },
  {
   "cell_type": "code",
   "execution_count": 8,
   "id": "4e919f02",
   "metadata": {},
   "outputs": [
    {
     "name": "stdout",
     "output_type": "stream",
     "text": [
      "Area of Triangle = 25.0\n"
     ]
    }
   ],
   "source": [
    "base = 10\n",
    "height =5\n",
    "area = (base * height)/(2)\n",
    "print(\"Area of Triangle =\",area)\n"
   ]
  },
  {
   "cell_type": "markdown",
   "id": "7901fea4",
   "metadata": {},
   "source": [
    "#  4. Write a Python program to swap two variables?\n"
   ]
  },
  {
   "cell_type": "code",
   "execution_count": 8,
   "id": "ff6af84c",
   "metadata": {},
   "outputs": [
    {
     "name": "stdout",
     "output_type": "stream",
     "text": [
      "Before swap\n",
      "var1= 123 var2= 111\n",
      "After swap\n",
      "var1= 111 var2= 123\n"
     ]
    }
   ],
   "source": [
    "var1 = 123\n",
    "var2 = 111\n",
    "print(\"Before swap\")\n",
    "print(\"var1=\",var1,\"var2=\",var2)\n",
    "var = var1\n",
    "var1 = var2\n",
    "var2 = var\n",
    "print(\"After swap\")\n",
    "print(\"var1=\",var1,\"var2=\",var2)\n"
   ]
  },
  {
   "cell_type": "markdown",
   "id": "e9a38d9c",
   "metadata": {},
   "source": [
    "# 5. Write a Python program to generate a random number?\n"
   ]
  },
  {
   "cell_type": "code",
   "execution_count": 9,
   "id": "785e3f54",
   "metadata": {},
   "outputs": [
    {
     "name": "stdout",
     "output_type": "stream",
     "text": [
      "0.4697379890736588\n",
      "734\n"
     ]
    }
   ],
   "source": [
    "import random\n",
    "\n",
    "print(random.random())\n",
    "print(random.randint(1, 1000))"
   ]
  }
 ],
 "metadata": {
  "kernelspec": {
   "display_name": "Python 3 (ipykernel)",
   "language": "python",
   "name": "python3"
  },
  "language_info": {
   "codemirror_mode": {
    "name": "ipython",
    "version": 3
   },
   "file_extension": ".py",
   "mimetype": "text/x-python",
   "name": "python",
   "nbconvert_exporter": "python",
   "pygments_lexer": "ipython3",
   "version": "3.11.2"
  }
 },
 "nbformat": 4,
 "nbformat_minor": 5
}
