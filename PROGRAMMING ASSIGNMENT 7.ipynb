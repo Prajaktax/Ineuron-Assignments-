{
 "cells": [
  {
   "cell_type": "code",
   "execution_count": 1,
   "id": "fdcd568f",
   "metadata": {},
   "outputs": [],
   "source": [
    "# PROGRAMMING ASSIGNMENT 7"
   ]
  },
  {
   "cell_type": "code",
   "execution_count": 2,
   "id": "010ea808",
   "metadata": {},
   "outputs": [],
   "source": [
    "# 1. Write a Python Program to find sum of array?\n",
    "\n",
    "# SOL"
   ]
  },
  {
   "cell_type": "code",
   "execution_count": 4,
   "id": "ef2855e5",
   "metadata": {},
   "outputs": [
    {
     "name": "stdout",
     "output_type": "stream",
     "text": [
      "Sum of array:  651\n"
     ]
    }
   ],
   "source": [
    "l = [1,2,3,-45, 123, 456, 111]\n",
    "\n",
    "arraySum = 0\n",
    "for i in l:\n",
    "    arraySum += i\n",
    "    \n",
    "print(\"Sum of array: \", arraySum)"
   ]
  },
  {
   "cell_type": "code",
   "execution_count": 6,
   "id": "48767158",
   "metadata": {},
   "outputs": [],
   "source": [
    "# 2. Write a Python Program to find largest element in an array?\n",
    "\n",
    "# SOL"
   ]
  },
  {
   "cell_type": "code",
   "execution_count": 7,
   "id": "e4472af2",
   "metadata": {},
   "outputs": [
    {
     "data": {
      "text/plain": [
       "456"
      ]
     },
     "execution_count": 7,
     "metadata": {},
     "output_type": "execute_result"
    }
   ],
   "source": [
    "l = [1,2,3,-45, 123, 456, 111]\n",
    "\n",
    "arrayMax = -9999999999999\n",
    "\n",
    "for i in l:\n",
    "    if i > arrayMax:\n",
    "        arrayMax = i\n",
    "\n",
    "arrayMax"
   ]
  },
  {
   "cell_type": "code",
   "execution_count": 8,
   "id": "31a87c74",
   "metadata": {},
   "outputs": [],
   "source": [
    "# 3. Write a Python Program for array rotation?\n",
    "\n",
    "# SOL"
   ]
  },
  {
   "cell_type": "code",
   "execution_count": 9,
   "id": "78bdbf22",
   "metadata": {},
   "outputs": [
    {
     "name": "stdout",
     "output_type": "stream",
     "text": [
      "Rotated array:\n",
      "[111, 456, 123, -45, 3, 2, 1]\n"
     ]
    }
   ],
   "source": [
    "l = [1,2,3,-45, 123, 456, 111]\n",
    "\n",
    "print(\"Rotated array:\")\n",
    "print(l[::-1])"
   ]
  },
  {
   "cell_type": "code",
   "execution_count": 10,
   "id": "e2d3eaed",
   "metadata": {},
   "outputs": [],
   "source": [
    "# 4. Write a Python Program to Split the array and add the first part to the end?\n",
    "\n",
    "# SOL"
   ]
  },
  {
   "cell_type": "code",
   "execution_count": 12,
   "id": "3deaca56",
   "metadata": {},
   "outputs": [],
   "source": [
    "def splitAdd(l, split):\n",
    "    '''\n",
    "    l = list\n",
    "    split = splitIndex\n",
    "    '''\n",
    "    out = []\n",
    "    for i in range(len(l)):\n",
    "        index = (i+len(l)+split)%len(l)\n",
    "        out.append(l[index])\n",
    "        \n",
    "    return out"
   ]
  },
  {
   "cell_type": "code",
   "execution_count": 13,
   "id": "4665c70d",
   "metadata": {},
   "outputs": [
    {
     "data": {
      "text/plain": [
       "[3, -412, 123, 369, 111, 1, 2]"
      ]
     },
     "execution_count": 13,
     "metadata": {},
     "output_type": "execute_result"
    }
   ],
   "source": [
    "l = [1,2,3,-412, 123, 369, 111]\n",
    "splitIndex = 2\n",
    "splitAdd(l, splitIndex)"
   ]
  },
  {
   "cell_type": "code",
   "execution_count": 14,
   "id": "b44138c8",
   "metadata": {},
   "outputs": [],
   "source": [
    "# 5. Write a Python Program to check if given array is Monotonic?\n",
    "\n",
    "# SOL"
   ]
  },
  {
   "cell_type": "code",
   "execution_count": 15,
   "id": "2d984892",
   "metadata": {},
   "outputs": [],
   "source": [
    "def monotonicCheck(array):\n",
    "    flag = True\n",
    "    \n",
    "    if array[0] >= array[len(array)-1]:\n",
    "        for i in range(len(array)-2):\n",
    "            if array[i] < array[i+1]:\n",
    "                flag = False\n",
    "    else:\n",
    "        for i in range(len(array)-2):\n",
    "            if array[i] > array[i+1]:\n",
    "                flag = False\n",
    "                \n",
    "    return flag"
   ]
  },
  {
   "cell_type": "code",
   "execution_count": 16,
   "id": "1932bfdb",
   "metadata": {},
   "outputs": [
    {
     "data": {
      "text/plain": [
       "True"
      ]
     },
     "execution_count": 16,
     "metadata": {},
     "output_type": "execute_result"
    }
   ],
   "source": [
    "array = [1,2,3,56, 124, 369]\n",
    "\n",
    "monotonicCheck(array)"
   ]
  },
  {
   "cell_type": "code",
   "execution_count": 17,
   "id": "1434db4d",
   "metadata": {},
   "outputs": [
    {
     "data": {
      "text/plain": [
       "True"
      ]
     },
     "execution_count": 17,
     "metadata": {},
     "output_type": "execute_result"
    }
   ],
   "source": [
    "array = [123,43, 12, 2, -23,-345]\n",
    "monotonicCheck(array)"
   ]
  },
  {
   "cell_type": "code",
   "execution_count": 18,
   "id": "f9f77d8d",
   "metadata": {},
   "outputs": [
    {
     "data": {
      "text/plain": [
       "False"
      ]
     },
     "execution_count": 18,
     "metadata": {},
     "output_type": "execute_result"
    }
   ],
   "source": [
    "array = [123,-23, 783, -98,0, 12]\n",
    "monotonicCheck(array)"
   ]
  },
  {
   "cell_type": "code",
   "execution_count": null,
   "id": "56b1a09b",
   "metadata": {},
   "outputs": [],
   "source": []
  }
 ],
 "metadata": {
  "kernelspec": {
   "display_name": "Python 3 (ipykernel)",
   "language": "python",
   "name": "python3"
  },
  "language_info": {
   "codemirror_mode": {
    "name": "ipython",
    "version": 3
   },
   "file_extension": ".py",
   "mimetype": "text/x-python",
   "name": "python",
   "nbconvert_exporter": "python",
   "pygments_lexer": "ipython3",
   "version": "3.11.0"
  }
 },
 "nbformat": 4,
 "nbformat_minor": 5
}
