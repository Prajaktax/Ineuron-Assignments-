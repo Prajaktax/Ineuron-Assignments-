{
 "cells": [
  {
   "cell_type": "code",
   "execution_count": 1,
   "id": "1d2598b7",
   "metadata": {},
   "outputs": [],
   "source": [
    "# Programming Assignment - 15"
   ]
  },
  {
   "cell_type": "code",
   "execution_count": 2,
   "id": "89732922",
   "metadata": {},
   "outputs": [],
   "source": [
    "# 1. Please write a program using generator to print the numbers which can be divisible by 5 and 7 between 0 and n in comma separated form while n is input by console."
   ]
  },
  {
   "cell_type": "code",
   "execution_count": 3,
   "id": "b5845695",
   "metadata": {},
   "outputs": [],
   "source": [
    "def task1(n):\n",
    "    \n",
    "    for i in range(n+1):\n",
    "        if i % 5 == 0 and i % 7 == 0:\n",
    "            yield str(i)+' '"
   ]
  },
  {
   "cell_type": "code",
   "execution_count": 4,
   "id": "e81c497e",
   "metadata": {},
   "outputs": [
    {
     "data": {
      "text/plain": [
       "<generator object task1 at 0x0000018C1598EB20>"
      ]
     },
     "execution_count": 4,
     "metadata": {},
     "output_type": "execute_result"
    }
   ],
   "source": [
    "task1(100)"
   ]
  },
  {
   "cell_type": "code",
   "execution_count": 5,
   "id": "04052259",
   "metadata": {},
   "outputs": [
    {
     "name": "stdout",
     "output_type": "stream",
     "text": [
      "0 , 35 , 70 \n"
     ]
    }
   ],
   "source": [
    "print(', '.join([i for i in task1(100)]))"
   ]
  },
  {
   "cell_type": "code",
   "execution_count": 6,
   "id": "f5d0b000",
   "metadata": {},
   "outputs": [],
   "source": [
    "# 3. Please write a program using list comprehension to print the Fibonacci Sequence in comma separated form with a given n input by console."
   ]
  },
  {
   "cell_type": "code",
   "execution_count": 7,
   "id": "4bd38f29",
   "metadata": {},
   "outputs": [],
   "source": [
    "def fibo(n):\n",
    "    i = 0\n",
    "    j = 1\n",
    "    for k in range(n+1):\n",
    "        yield i\n",
    "        i,j = j, i+j"
   ]
  },
  {
   "cell_type": "code",
   "execution_count": 8,
   "id": "a9c591e6",
   "metadata": {},
   "outputs": [
    {
     "name": "stdout",
     "output_type": "stream",
     "text": [
      "0,1,1,2,3,5,8,13\n"
     ]
    }
   ],
   "source": [
    "print(','.join([str(num) for num in fibo(7)]))"
   ]
  },
  {
   "cell_type": "code",
   "execution_count": 9,
   "id": "2190fe81",
   "metadata": {},
   "outputs": [],
   "source": [
    "# 4. Assuming that we have some email addresses in the \"username@companyname.com\" format, please write program to print the user name of a given email address. Both user names and company names are composed of letters only."
   ]
  },
  {
   "cell_type": "code",
   "execution_count": 10,
   "id": "da7299bc",
   "metadata": {},
   "outputs": [],
   "source": [
    "def username(email: str):\n",
    "    return email.split('@')[0]"
   ]
  },
  {
   "cell_type": "code",
   "execution_count": 11,
   "id": "7eb0f6b4",
   "metadata": {},
   "outputs": [
    {
     "data": {
      "text/plain": [
       "'john'"
      ]
     },
     "execution_count": 11,
     "metadata": {},
     "output_type": "execute_result"
    }
   ],
   "source": [
    "username('john@google.com')"
   ]
  },
  {
   "cell_type": "code",
   "execution_count": 12,
   "id": "a451d1f2",
   "metadata": {},
   "outputs": [],
   "source": [
    "# 5. Define a class named Shape and its subclass Square. The Square class has an init function which takes a length as argument. Both classes have a area function which can print the area of the shape where Shape's area is 0 by default."
   ]
  },
  {
   "cell_type": "code",
   "execution_count": 13,
   "id": "49d3a8cd",
   "metadata": {},
   "outputs": [],
   "source": [
    "class Shape:\n",
    "    def __init__(self, length):\n",
    "        self.length = length\n",
    "        \n",
    "    def area(self):\n",
    "        return 0\n",
    "    \n",
    "class Square(Shape):\n",
    "    def area(self):\n",
    "        return self.length*self.length"
   ]
  },
  {
   "cell_type": "code",
   "execution_count": 14,
   "id": "d323ef2c",
   "metadata": {},
   "outputs": [
    {
     "data": {
      "text/plain": [
       "0"
      ]
     },
     "execution_count": 14,
     "metadata": {},
     "output_type": "execute_result"
    }
   ],
   "source": [
    "shape_obj = Shape(10)\n",
    "\n",
    "shape_obj.area()"
   ]
  },
  {
   "cell_type": "code",
   "execution_count": 15,
   "id": "faab5bb9",
   "metadata": {},
   "outputs": [
    {
     "data": {
      "text/plain": [
       "169"
      ]
     },
     "execution_count": 15,
     "metadata": {},
     "output_type": "execute_result"
    }
   ],
   "source": [
    "square_obj = Square(13)\n",
    "\n",
    "square_obj.area()"
   ]
  },
  {
   "cell_type": "code",
   "execution_count": null,
   "id": "729be181",
   "metadata": {},
   "outputs": [],
   "source": []
  }
 ],
 "metadata": {
  "kernelspec": {
   "display_name": "Python 3 (ipykernel)",
   "language": "python",
   "name": "python3"
  },
  "language_info": {
   "codemirror_mode": {
    "name": "ipython",
    "version": 3
   },
   "file_extension": ".py",
   "mimetype": "text/x-python",
   "name": "python",
   "nbconvert_exporter": "python",
   "pygments_lexer": "ipython3",
   "version": "3.11.0"
  }
 },
 "nbformat": 4,
 "nbformat_minor": 5
}
