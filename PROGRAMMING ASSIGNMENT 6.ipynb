{
 "cells": [
  {
   "cell_type": "code",
   "execution_count": 1,
   "id": "0155065d",
   "metadata": {},
   "outputs": [],
   "source": [
    "#### PROGRAMMING ASSIGNMENT 6"
   ]
  },
  {
   "cell_type": "code",
   "execution_count": 2,
   "id": "0a2f8afc",
   "metadata": {},
   "outputs": [],
   "source": [
    "# 1. Write a Python Program to Display Fibonacci Sequence Using Recursion?\n",
    "\n",
    "# SOL"
   ]
  },
  {
   "cell_type": "code",
   "execution_count": 3,
   "id": "f5fc0a6b",
   "metadata": {},
   "outputs": [],
   "source": [
    "def fibo(a,b,c):\n",
    "    if c > 0:\n",
    "        c -= 1\n",
    "        print(a, end=' ')\n",
    "        temp = b\n",
    "        b = a + b\n",
    "        a = temp\n",
    "        fibo(a,b,c)"
   ]
  },
  {
   "cell_type": "code",
   "execution_count": 4,
   "id": "8224913c",
   "metadata": {},
   "outputs": [
    {
     "name": "stdout",
     "output_type": "stream",
     "text": [
      "0 1 1 2 3 5 8 13 21 34 "
     ]
    }
   ],
   "source": [
    "fibo(0,1,10)"
   ]
  },
  {
   "cell_type": "code",
   "execution_count": 5,
   "id": "374aa620",
   "metadata": {},
   "outputs": [],
   "source": [
    "# 2. Write a Python Program to Find Factorial of Number Using Recursion?\n",
    "\n",
    "# SOL"
   ]
  },
  {
   "cell_type": "code",
   "execution_count": 6,
   "id": "ece35108",
   "metadata": {},
   "outputs": [],
   "source": [
    "def fact(n):\n",
    "    if n == 0:\n",
    "        return 1\n",
    "    else:\n",
    "        return n*fact(n-1)"
   ]
  },
  {
   "cell_type": "code",
   "execution_count": 7,
   "id": "db8ccd7b",
   "metadata": {},
   "outputs": [
    {
     "data": {
      "text/plain": [
       "120"
      ]
     },
     "execution_count": 7,
     "metadata": {},
     "output_type": "execute_result"
    }
   ],
   "source": [
    "fact(5)"
   ]
  },
  {
   "cell_type": "code",
   "execution_count": 8,
   "id": "6fbdb154",
   "metadata": {},
   "outputs": [
    {
     "data": {
      "text/plain": [
       "5040"
      ]
     },
     "execution_count": 8,
     "metadata": {},
     "output_type": "execute_result"
    }
   ],
   "source": [
    "fact(7)"
   ]
  },
  {
   "cell_type": "code",
   "execution_count": 10,
   "id": "39f9516c",
   "metadata": {},
   "outputs": [],
   "source": [
    "# 3. Write a Python Program to calculate your Body Mass Index?\n",
    "\n",
    "# SOL"
   ]
  },
  {
   "cell_type": "code",
   "execution_count": 11,
   "id": "03a1a31f",
   "metadata": {},
   "outputs": [],
   "source": [
    "def bmi(height, weight):\n",
    "    \n",
    "    return weight/(height*height)"
   ]
  },
  {
   "cell_type": "code",
   "execution_count": 12,
   "id": "99d4e02f",
   "metadata": {},
   "outputs": [
    {
     "data": {
      "text/plain": [
       "21.604938271604937"
      ]
     },
     "execution_count": 12,
     "metadata": {},
     "output_type": "execute_result"
    }
   ],
   "source": [
    "bmi(1.8, 70)"
   ]
  },
  {
   "cell_type": "code",
   "execution_count": 13,
   "id": "c2f9382b",
   "metadata": {},
   "outputs": [],
   "source": [
    "# 4. Write a Python Program to calculate the natural logarithm of any number?\n",
    "\n",
    "# SOL"
   ]
  },
  {
   "cell_type": "code",
   "execution_count": 14,
   "id": "f87f95f6",
   "metadata": {},
   "outputs": [
    {
     "name": "stdout",
     "output_type": "stream",
     "text": [
      "Enter the number: 21\n",
      "3.044522437723423\n"
     ]
    }
   ],
   "source": [
    "import math\n",
    "\n",
    "try:\n",
    "    num = int(input(\"Enter the number: \"))\n",
    "except Exception as e:\n",
    "    print(e)\n",
    "else:\n",
    "    print(math.log(num))"
   ]
  },
  {
   "cell_type": "code",
   "execution_count": 15,
   "id": "2bdc90e7",
   "metadata": {},
   "outputs": [],
   "source": [
    "# 5. Write a Python Program for cube sum of first n natural numbers?\n",
    "\n",
    "# SOL"
   ]
  },
  {
   "cell_type": "code",
   "execution_count": 16,
   "id": "51309e88",
   "metadata": {},
   "outputs": [],
   "source": [
    "def cubN(n):\n",
    "    return sum(range(n+1))**3"
   ]
  },
  {
   "cell_type": "code",
   "execution_count": 17,
   "id": "037e25d3",
   "metadata": {},
   "outputs": [
    {
     "data": {
      "text/plain": [
       "216"
      ]
     },
     "execution_count": 17,
     "metadata": {},
     "output_type": "execute_result"
    }
   ],
   "source": [
    "cubN(3)"
   ]
  },
  {
   "cell_type": "code",
   "execution_count": 18,
   "id": "86dacd11",
   "metadata": {},
   "outputs": [
    {
     "data": {
      "text/plain": [
       "1000"
      ]
     },
     "execution_count": 18,
     "metadata": {},
     "output_type": "execute_result"
    }
   ],
   "source": [
    "cubN(4)"
   ]
  },
  {
   "cell_type": "code",
   "execution_count": null,
   "id": "6a1a0ecb",
   "metadata": {},
   "outputs": [],
   "source": []
  }
 ],
 "metadata": {
  "kernelspec": {
   "display_name": "Python 3 (ipykernel)",
   "language": "python",
   "name": "python3"
  },
  "language_info": {
   "codemirror_mode": {
    "name": "ipython",
    "version": 3
   },
   "file_extension": ".py",
   "mimetype": "text/x-python",
   "name": "python",
   "nbconvert_exporter": "python",
   "pygments_lexer": "ipython3",
   "version": "3.11.0"
  }
 },
 "nbformat": 4,
 "nbformat_minor": 5
}
