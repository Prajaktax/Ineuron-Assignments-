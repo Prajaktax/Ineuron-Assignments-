{
 "cells": [
  {
   "cell_type": "code",
   "execution_count": 1,
   "id": "d746441f",
   "metadata": {},
   "outputs": [],
   "source": [
    "# Programming Basic Assignment 13"
   ]
  },
  {
   "cell_type": "code",
   "execution_count": 5,
   "id": "df619324",
   "metadata": {},
   "outputs": [],
   "source": [
    "# 1. Write a program that calculates and prints the value according to the given formula:\n",
    "\n",
    "Q = Square root of [(2 C D)/H]\n",
    "\n",
    "Following are the fixed values of C and H:\n",
    "\n",
    "C is 50. H is 30.\n",
    "\n",
    "D is the variable whose values should be input to your program in a comma-separated sequence.\n",
    "\n",
    "Example\n",
    "\n",
    "Let us assume the following comma separated input sequence is given to the program:\n",
    "\n",
    "100,150,180\n",
    "\n",
    "The output of the program should be:\n",
    "\n",
    "18,22,24"
   ]
  },
  {
   "cell_type": "code",
   "execution_count": 6,
   "id": "c770399d",
   "metadata": {},
   "outputs": [
    {
     "name": "stdout",
     "output_type": "stream",
     "text": [
      "Enter comma separated numbers input: 200, 300, 400\n",
      "[25, 31, 36]\n"
     ]
    }
   ],
   "source": [
    "import math\n",
    "\n",
    "def calculate_formula(args):\n",
    "    c = 50\n",
    "    h = 30\n",
    "    result = []\n",
    "    for d in args:\n",
    "        result.append(int(math.sqrt((2*c*int(d))/h)))\n",
    "    print(result)\n",
    "    \n",
    "\n",
    "inp = list(input(\"Enter comma separated numbers input: \").split(','))\n",
    "calculate_formula(inp)"
   ]
  },
  {
   "cell_type": "code",
   "execution_count": 8,
   "id": "e333137a",
   "metadata": {},
   "outputs": [],
   "source": [
    "# 2. Write a program which takes 2 digits, X,Y as input and generates a 2-dimensional array.\n",
    "# The element value in the i-th row and j-th column of the array should be i*j."
   ]
  },
  {
   "cell_type": "code",
   "execution_count": 10,
   "id": "4112dce7",
   "metadata": {},
   "outputs": [
    {
     "name": "stdout",
     "output_type": "stream",
     "text": [
      "Enter X value: 3\n",
      "Enter Y value: 5\n",
      "[[0, 0, 0, 0, 0], [0, 1, 2, 3, 4], [0, 2, 4, 6, 8]]\n"
     ]
    }
   ],
   "source": [
    "x = int(input(\"Enter X value: \"))\n",
    "y = int(input(\"Enter Y value: \"))\n",
    "matrix = []\n",
    "for i in range(x):\n",
    "    row = []\n",
    "    for j in range(y):\n",
    "        row.append(i*j)\n",
    "    matrix.append(row)\n",
    "print(matrix)"
   ]
  },
  {
   "cell_type": "code",
   "execution_count": 11,
   "id": "e03cefc2",
   "metadata": {},
   "outputs": [],
   "source": [
    "# 3. Write a program that accepts a comma separated sequence of words as input and prints the words in a comma\n",
    "-separated sequence after sorting them alphabetically"
   ]
  },
  {
   "cell_type": "code",
   "execution_count": 12,
   "id": "11154b81",
   "metadata": {},
   "outputs": [
    {
     "name": "stdout",
     "output_type": "stream",
     "text": [
      "Enter comma seperated words: HELLO, INEURON, BIG DATA\n",
      " BIG DATA, INEURON,HELLO\n"
     ]
    }
   ],
   "source": [
    "words = list(input(\"Enter comma seperated words: \").split(','))\n",
    "words.sort() \n",
    "print(','.join(words))"
   ]
  },
  {
   "cell_type": "code",
   "execution_count": 13,
   "id": "6800f1c7",
   "metadata": {},
   "outputs": [],
   "source": [
    "# 4. Write a program that accepts a sequence of whitespace\n",
    "separated words as input and prints the words after removing all duplicate words and sorting them alphanumerically."
   ]
  },
  {
   "cell_type": "code",
   "execution_count": 14,
   "id": "9f8a7d49",
   "metadata": {},
   "outputs": [
    {
     "name": "stdout",
     "output_type": "stream",
     "text": [
      "Enter comma seperated words: practice makes perfect\n",
      "makes perfect practice\n"
     ]
    }
   ],
   "source": [
    "words = list(set(input(\"Enter comma seperated words: \").split(' ')))\n",
    "words.sort() \n",
    "print(' '.join(words))"
   ]
  },
  {
   "cell_type": "code",
   "execution_count": 15,
   "id": "999892f2",
   "metadata": {},
   "outputs": [],
   "source": [
    "# 5. Write a program that accepts a sentence and calculate the number of letters and digits."
   ]
  },
  {
   "cell_type": "code",
   "execution_count": 16,
   "id": "519ef1b0",
   "metadata": {},
   "outputs": [
    {
     "name": "stdout",
     "output_type": "stream",
     "text": [
      "Enter a sentence: 123\n",
      "LETTERS 0\n",
      "DIGITS 3\n"
     ]
    }
   ],
   "source": [
    "words = input(\"Enter a sentence: \")\n",
    "letters = 0\n",
    "digits = 0\n",
    "for c in words:\n",
    "    if (ord(c) >= ord('a') and ord(c) <= ord('z')) or (ord(c) >= ord('A') and ord(c) <= ord('Z')):\n",
    "        letters += 1\n",
    "    elif ord(c) >= ord('0') and ord(c) <= ord('9'):\n",
    "        digits += 1\n",
    "print(\"LETTERS {}\".format(letters))\n",
    "print(\"DIGITS {}\".format(digits))"
   ]
  },
  {
   "cell_type": "code",
   "execution_count": 17,
   "id": "aec4b115",
   "metadata": {},
   "outputs": [],
   "source": [
    "# 6. A website requires the users to input username and password to register. Write a program to check the validity of password input by users"
   ]
  },
  {
   "cell_type": "code",
   "execution_count": 18,
   "id": "b60462ba",
   "metadata": {},
   "outputs": [
    {
     "name": "stdout",
     "output_type": "stream",
     "text": [
      "Enter comma seperated passwords: HFAHFFD2@, WGSJGWE#12 , SKDUY12#1\n",
      "\n"
     ]
    }
   ],
   "source": [
    "def check_smallcase(password):\n",
    "    check = False\n",
    "    for p in password:\n",
    "        if ord(p) >= ord('a') and ord(p) <= ord('z'):\n",
    "            check = True\n",
    "            break\n",
    "    return check\n",
    "\n",
    "def check_uppercase(password):\n",
    "    check = False\n",
    "    for p in password:\n",
    "        if ord(p) >= ord('A') and ord(p) <= ord('Z'):\n",
    "            check = True\n",
    "            break\n",
    "    return check\n",
    "\n",
    "def check_digit(password):\n",
    "    check = False\n",
    "    for p in password:\n",
    "        if ord(p) >= ord('1') and ord(p) <= ord('9'):\n",
    "            check = True\n",
    "            break\n",
    "    return check\n",
    "\n",
    "def check_specialchars(password):\n",
    "    check = False\n",
    "    specials = \"!@#$%^&*()_+=->;,:/?`\"\n",
    "    for p in password:\n",
    "        if p in specials:\n",
    "            check = True\n",
    "            break\n",
    "    return check\n",
    "\n",
    "def check_minlength(password):\n",
    "    return len(password) >= 6\n",
    "\n",
    "def check_maxlength(password):\n",
    "    return len(password) <= 12\n",
    "\n",
    "passwords = list(set(input(\"Enter comma seperated passwords: \").split(',')))\n",
    "valid_passwords = []\n",
    "for password in passwords:\n",
    "    if check_smallcase(password) and check_uppercase(password) and check_digit(password) and check_specialchars(password) and check_minlength(password) and check_maxlength(password):\n",
    "        valid_passwords.append(password)\n",
    "print(','.join(valid_passwords))"
   ]
  },
  {
   "cell_type": "code",
   "execution_count": null,
   "id": "701678e1",
   "metadata": {},
   "outputs": [],
   "source": []
  }
 ],
 "metadata": {
  "kernelspec": {
   "display_name": "Python 3 (ipykernel)",
   "language": "python",
   "name": "python3"
  },
  "language_info": {
   "codemirror_mode": {
    "name": "ipython",
    "version": 3
   },
   "file_extension": ".py",
   "mimetype": "text/x-python",
   "name": "python",
   "nbconvert_exporter": "python",
   "pygments_lexer": "ipython3",
   "version": "3.11.0"
  }
 },
 "nbformat": 4,
 "nbformat_minor": 5
}
